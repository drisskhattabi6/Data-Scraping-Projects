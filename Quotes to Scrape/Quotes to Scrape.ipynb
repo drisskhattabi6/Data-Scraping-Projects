{
 "cells": [
  {
   "cell_type": "markdown",
   "id": "6b56b6be-9f4f-481d-a88f-e59707ff483d",
   "metadata": {},
   "source": [
    "# Quotes to Scrape from [quotes.toscrape website](https://quotes.toscrape.com/)"
   ]
  },
  {
   "cell_type": "code",
   "execution_count": 2,
   "id": "62fe8ce3-c75f-4738-a348-6371c7cdecef",
   "metadata": {},
   "outputs": [],
   "source": [
    "import requests\n",
    "import pandas as pd\n",
    "from bs4 import BeautifulSoup"
   ]
  },
  {
   "cell_type": "code",
   "execution_count": 4,
   "id": "ebd7a8e6-435f-4ee6-8cd3-dca72f22ab3c",
   "metadata": {},
   "outputs": [],
   "source": [
    "all_quotes_list = []\n",
    "id1 = 1\n",
    "\n",
    "for page in range(1, 11) :\n",
    "\n",
    "    url = f'https://quotes.toscrape.com/page/{page}/'\n",
    "\n",
    "    response = requests.get(url)\n",
    "    soup = BeautifulSoup(response.content, 'html.parser')\n",
    "\n",
    "    all_quotes = soup.select('.quote')\n",
    "\n",
    "    for quote in all_quotes : \n",
    "\n",
    "        quote_text = quote.find('span', class_='text').text.strip()\n",
    "\n",
    "        # Extract the author name\n",
    "        author = quote.find('small', class_='author').text.strip()\n",
    "\n",
    "        # Extract all tags\n",
    "        tags = [tag.text.strip() for tag in quote.find_all('a', class_='tag')]\n",
    "\n",
    "        all_quotes_list.append({\n",
    "            'id': id1,\n",
    "            'quote': quote_text,\n",
    "            'author': author,\n",
    "            'tags': tags,\n",
    "        })\n",
    "\n",
    "        id1 += 1\n"
   ]
  },
  {
   "cell_type": "code",
   "execution_count": 5,
   "id": "e70baee8-e57e-44ce-bee6-a7010efdb43e",
   "metadata": {},
   "outputs": [
    {
     "data": {
      "text/plain": [
       "(100, 4)"
      ]
     },
     "execution_count": 5,
     "metadata": {},
     "output_type": "execute_result"
    }
   ],
   "source": [
    "data = pd.DataFrame(all_quotes_list)\n",
    "data.shape"
   ]
  },
  {
   "cell_type": "code",
   "execution_count": 6,
   "id": "918e8f46-f05c-4138-b97f-daa4a0fbc0a9",
   "metadata": {
    "tags": []
   },
   "outputs": [
    {
     "data": {
      "text/html": [
       "<div>\n",
       "<style scoped>\n",
       "    .dataframe tbody tr th:only-of-type {\n",
       "        vertical-align: middle;\n",
       "    }\n",
       "\n",
       "    .dataframe tbody tr th {\n",
       "        vertical-align: top;\n",
       "    }\n",
       "\n",
       "    .dataframe thead th {\n",
       "        text-align: right;\n",
       "    }\n",
       "</style>\n",
       "<table border=\"1\" class=\"dataframe\">\n",
       "  <thead>\n",
       "    <tr style=\"text-align: right;\">\n",
       "      <th></th>\n",
       "      <th>id</th>\n",
       "      <th>quote</th>\n",
       "      <th>author</th>\n",
       "      <th>tags</th>\n",
       "    </tr>\n",
       "  </thead>\n",
       "  <tbody>\n",
       "    <tr>\n",
       "      <th>0</th>\n",
       "      <td>1</td>\n",
       "      <td>“The world as we have created it is a process ...</td>\n",
       "      <td>Albert Einstein</td>\n",
       "      <td>[change, deep-thoughts, thinking, world]</td>\n",
       "    </tr>\n",
       "    <tr>\n",
       "      <th>1</th>\n",
       "      <td>2</td>\n",
       "      <td>“It is our choices, Harry, that show what we t...</td>\n",
       "      <td>J.K. Rowling</td>\n",
       "      <td>[abilities, choices]</td>\n",
       "    </tr>\n",
       "    <tr>\n",
       "      <th>2</th>\n",
       "      <td>3</td>\n",
       "      <td>“There are only two ways to live your life. On...</td>\n",
       "      <td>Albert Einstein</td>\n",
       "      <td>[inspirational, life, live, miracle, miracles]</td>\n",
       "    </tr>\n",
       "    <tr>\n",
       "      <th>3</th>\n",
       "      <td>4</td>\n",
       "      <td>“The person, be it gentleman or lady, who has ...</td>\n",
       "      <td>Jane Austen</td>\n",
       "      <td>[aliteracy, books, classic, humor]</td>\n",
       "    </tr>\n",
       "    <tr>\n",
       "      <th>4</th>\n",
       "      <td>5</td>\n",
       "      <td>“Imperfection is beauty, madness is genius and...</td>\n",
       "      <td>Marilyn Monroe</td>\n",
       "      <td>[be-yourself, inspirational]</td>\n",
       "    </tr>\n",
       "  </tbody>\n",
       "</table>\n",
       "</div>"
      ],
      "text/plain": [
       "   id                                              quote           author  \\\n",
       "0   1  “The world as we have created it is a process ...  Albert Einstein   \n",
       "1   2  “It is our choices, Harry, that show what we t...     J.K. Rowling   \n",
       "2   3  “There are only two ways to live your life. On...  Albert Einstein   \n",
       "3   4  “The person, be it gentleman or lady, who has ...      Jane Austen   \n",
       "4   5  “Imperfection is beauty, madness is genius and...   Marilyn Monroe   \n",
       "\n",
       "                                             tags  \n",
       "0        [change, deep-thoughts, thinking, world]  \n",
       "1                            [abilities, choices]  \n",
       "2  [inspirational, life, live, miracle, miracles]  \n",
       "3              [aliteracy, books, classic, humor]  \n",
       "4                    [be-yourself, inspirational]  "
      ]
     },
     "execution_count": 6,
     "metadata": {},
     "output_type": "execute_result"
    }
   ],
   "source": [
    "data.head()"
   ]
  },
  {
   "cell_type": "code",
   "execution_count": 7,
   "id": "ea49617b-189a-4c4b-b24f-966d9efb4cc5",
   "metadata": {
    "tags": []
   },
   "outputs": [
    {
     "name": "stdout",
     "output_type": "stream",
     "text": [
      "<class 'pandas.core.frame.DataFrame'>\n",
      "RangeIndex: 100 entries, 0 to 99\n",
      "Data columns (total 4 columns):\n",
      " #   Column  Non-Null Count  Dtype \n",
      "---  ------  --------------  ----- \n",
      " 0   id      100 non-null    int64 \n",
      " 1   quote   100 non-null    object\n",
      " 2   author  100 non-null    object\n",
      " 3   tags    100 non-null    object\n",
      "dtypes: int64(1), object(3)\n",
      "memory usage: 3.3+ KB\n"
     ]
    }
   ],
   "source": [
    "data.info()"
   ]
  },
  {
   "cell_type": "code",
   "execution_count": 8,
   "id": "ef386ee0-6896-43df-8114-8cff29b9e54b",
   "metadata": {
    "tags": []
   },
   "outputs": [],
   "source": [
    "data.to_csv('quotes_scraping.csv', index=False)"
   ]
  }
 ],
 "metadata": {
  "kernelspec": {
   "display_name": "Python 3 (ipykernel)",
   "language": "python",
   "name": "python3"
  },
  "language_info": {
   "codemirror_mode": {
    "name": "ipython",
    "version": 3
   },
   "file_extension": ".py",
   "mimetype": "text/x-python",
   "name": "python",
   "nbconvert_exporter": "python",
   "pygments_lexer": "ipython3",
   "version": "3.12.4"
  }
 },
 "nbformat": 4,
 "nbformat_minor": 5
}
