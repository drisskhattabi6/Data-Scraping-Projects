{
 "cells": [
  {
   "cell_type": "markdown",
   "id": "71f5261b-1c13-470c-b6df-54addfc914fd",
   "metadata": {},
   "source": [
    "# Scrapping Data of Movies from [moviesjoy website](https://moviesjoy.is/) :\n",
    "\n",
    "#### URL : https://moviesjoy.is/top-imdb or https://moviesjoy.is/movie"
   ]
  },
  {
   "cell_type": "code",
   "execution_count": 1,
   "id": "b59793df-02af-4097-8ee0-afaabd42df15",
   "metadata": {
    "tags": []
   },
   "outputs": [],
   "source": [
    "import requests\n",
    "from bs4 import BeautifulSoup\n",
    "import pandas as pd\n",
    "from IPython.display import display, HTML"
   ]
  },
  {
   "cell_type": "code",
   "execution_count": 2,
   "id": "130fd411-a4f9-4f86-9bc7-75f5a67f183f",
   "metadata": {
    "tags": []
   },
   "outputs": [
    {
     "name": "stdout",
     "output_type": "stream",
     "text": [
      "32\n"
     ]
    }
   ],
   "source": [
    "table_content = []\n",
    "page_numbers = 1\n",
    "\n",
    "for page_nbr in range(1, page_numbers+1) :\n",
    "    # url = f\"https://moviesjoy.is/movie?page={page_nbr}\"\n",
    "    url = f\"https://moviesjoy.is/top-imdb?type=all&page={page_nbr}\"\n",
    "\n",
    "    response = requests.get(url)\n",
    "\n",
    "    # Parsing the webpage content\n",
    "    soup = BeautifulSoup(response.content, 'html.parser')\n",
    "\n",
    "    # table = soup.find('div', {'class': 'film_list-wrap'})\n",
    "    all_movies = soup.find_all('div', {'class': 'flw-item'})\n",
    "    # print(all_movies)\n",
    "    print(len(all_movies))\n",
    "    \n",
    "    for movie in all_movies :\n",
    "        \n",
    "        duration = movie.find('span', {'class': 'fdi-duration'})\n",
    "        if duration :\n",
    "            duration = duration.text.strip()\n",
    "        \n",
    "        table_content.append({\n",
    "            'film-quality': movie.find('div', {'class': 'film-poster-quality'}).text.strip(),\n",
    "            'film-poster': movie.find('img', {'class': 'film-poster-img'}).attrs['data-src'],\n",
    "            'film-link': f\"https://moviesjoy.is{movie.find('a', {'class': 'film-poster-ahref'}).attrs['href']}\",\n",
    "            'film-name':  movie.find('h2', {'class': 'film-name'}).text.strip(),\n",
    "            'film-type': movie.find('span', {'class': 'fdi-type'}).text.strip(),\n",
    "            'film-duration': duration,\n",
    "            'publish-year': movie.find('span', {'class': 'fdi-item'}).text.strip(),\n",
    "        })\n",
    "        \n",
    "        "
   ]
  },
  {
   "cell_type": "code",
   "execution_count": 3,
   "id": "d0c8f983-bd38-45bc-8396-063c5da589d3",
   "metadata": {
    "tags": []
   },
   "outputs": [],
   "source": [
    "data = pd.DataFrame(table_content)"
   ]
  },
  {
   "cell_type": "code",
   "execution_count": 4,
   "id": "a158c6da-6dd8-40db-a717-f0d6bfd861c3",
   "metadata": {
    "tags": []
   },
   "outputs": [
    {
     "data": {
      "text/html": [
       "<div>\n",
       "<style scoped>\n",
       "    .dataframe tbody tr th:only-of-type {\n",
       "        vertical-align: middle;\n",
       "    }\n",
       "\n",
       "    .dataframe tbody tr th {\n",
       "        vertical-align: top;\n",
       "    }\n",
       "\n",
       "    .dataframe thead th {\n",
       "        text-align: right;\n",
       "    }\n",
       "</style>\n",
       "<table border=\"1\" class=\"dataframe\">\n",
       "  <thead>\n",
       "    <tr style=\"text-align: right;\">\n",
       "      <th></th>\n",
       "      <th>film-quality</th>\n",
       "      <th>film-poster</th>\n",
       "      <th>film-link</th>\n",
       "      <th>film-name</th>\n",
       "      <th>film-type</th>\n",
       "      <th>film-duration</th>\n",
       "      <th>publish-year</th>\n",
       "    </tr>\n",
       "  </thead>\n",
       "  <tbody>\n",
       "    <tr>\n",
       "      <th>0</th>\n",
       "      <td>HD</td>\n",
       "      <td>https://img.moviesjoy.is/resize/188x288/c6/7d/...</td>\n",
       "      <td>https://moviesjoy.is/tv/bluey-63355</td>\n",
       "      <td>Bluey</td>\n",
       "      <td>TV</td>\n",
       "      <td>None</td>\n",
       "      <td>SS 3</td>\n",
       "    </tr>\n",
       "    <tr>\n",
       "      <th>1</th>\n",
       "      <td>HD</td>\n",
       "      <td>https://img.moviesjoy.is/resize/188x288/f2/c0/...</td>\n",
       "      <td>https://moviesjoy.is/tv/hope-on-the-street-107554</td>\n",
       "      <td>Hope on the Street</td>\n",
       "      <td>TV</td>\n",
       "      <td>None</td>\n",
       "      <td>SS 1</td>\n",
       "    </tr>\n",
       "    <tr>\n",
       "      <th>2</th>\n",
       "      <td>HD</td>\n",
       "      <td>https://img.moviesjoy.is/resize/188x288/55/1a/...</td>\n",
       "      <td>https://moviesjoy.is/movie/jimmie-stevie-ray-v...</td>\n",
       "      <td>Jimmie &amp; Stevie Ray Vaughan: Brothers in Blues</td>\n",
       "      <td>Movie</td>\n",
       "      <td>107m</td>\n",
       "      <td>2023</td>\n",
       "    </tr>\n",
       "    <tr>\n",
       "      <th>3</th>\n",
       "      <td>HD</td>\n",
       "      <td>https://img.moviesjoy.is/resize/188x288/04/60/...</td>\n",
       "      <td>https://moviesjoy.is/tv/chasing-the-sun-111280</td>\n",
       "      <td>Chasing the Sun</td>\n",
       "      <td>TV</td>\n",
       "      <td>None</td>\n",
       "      <td>SS 2</td>\n",
       "    </tr>\n",
       "    <tr>\n",
       "      <th>4</th>\n",
       "      <td>HD</td>\n",
       "      <td>https://img.moviesjoy.is/resize/188x288/f7/01/...</td>\n",
       "      <td>https://moviesjoy.is/tv/the-last-drive-in-with...</td>\n",
       "      <td>The Last Drive-in With Joe Bob Briggs</td>\n",
       "      <td>TV</td>\n",
       "      <td>None</td>\n",
       "      <td>SS 3</td>\n",
       "    </tr>\n",
       "    <tr>\n",
       "      <th>5</th>\n",
       "      <td>HD</td>\n",
       "      <td>https://img.moviesjoy.is/resize/188x288/5a/4e/...</td>\n",
       "      <td>https://moviesjoy.is/tv/planet-earth-ii-38958</td>\n",
       "      <td>Planet Earth II</td>\n",
       "      <td>TV</td>\n",
       "      <td>None</td>\n",
       "      <td>SS 1</td>\n",
       "    </tr>\n",
       "    <tr>\n",
       "      <th>6</th>\n",
       "      <td>HD</td>\n",
       "      <td>https://img.moviesjoy.is/resize/188x288/f7/4f/...</td>\n",
       "      <td>https://moviesjoy.is/tv/the-tragically-hip-no-...</td>\n",
       "      <td>The Tragically Hip: No Dress Rehearsal</td>\n",
       "      <td>TV</td>\n",
       "      <td>None</td>\n",
       "      <td>SS 1</td>\n",
       "    </tr>\n",
       "    <tr>\n",
       "      <th>7</th>\n",
       "      <td>HD</td>\n",
       "      <td>https://img.moviesjoy.is/resize/188x288/7a/78/...</td>\n",
       "      <td>https://moviesjoy.is/tv/breaking-bad-39506</td>\n",
       "      <td>Breaking Bad</td>\n",
       "      <td>TV</td>\n",
       "      <td>None</td>\n",
       "      <td>SS 5</td>\n",
       "    </tr>\n",
       "    <tr>\n",
       "      <th>8</th>\n",
       "      <td>HD</td>\n",
       "      <td>https://img.moviesjoy.is/resize/188x288/42/bd/...</td>\n",
       "      <td>https://moviesjoy.is/tv/planet-earth-38933</td>\n",
       "      <td>Planet Earth</td>\n",
       "      <td>TV</td>\n",
       "      <td>None</td>\n",
       "      <td>SS 1</td>\n",
       "    </tr>\n",
       "    <tr>\n",
       "      <th>9</th>\n",
       "      <td>HD</td>\n",
       "      <td>https://img.moviesjoy.is/resize/188x288/2f/0c/...</td>\n",
       "      <td>https://moviesjoy.is/tv/trading-up-with-mandy-...</td>\n",
       "      <td>Trading Up with Mandy Rennehan</td>\n",
       "      <td>TV</td>\n",
       "      <td>None</td>\n",
       "      <td>SS 1</td>\n",
       "    </tr>\n",
       "  </tbody>\n",
       "</table>\n",
       "</div>"
      ],
      "text/plain": [
       "  film-quality                                        film-poster  \\\n",
       "0           HD  https://img.moviesjoy.is/resize/188x288/c6/7d/...   \n",
       "1           HD  https://img.moviesjoy.is/resize/188x288/f2/c0/...   \n",
       "2           HD  https://img.moviesjoy.is/resize/188x288/55/1a/...   \n",
       "3           HD  https://img.moviesjoy.is/resize/188x288/04/60/...   \n",
       "4           HD  https://img.moviesjoy.is/resize/188x288/f7/01/...   \n",
       "5           HD  https://img.moviesjoy.is/resize/188x288/5a/4e/...   \n",
       "6           HD  https://img.moviesjoy.is/resize/188x288/f7/4f/...   \n",
       "7           HD  https://img.moviesjoy.is/resize/188x288/7a/78/...   \n",
       "8           HD  https://img.moviesjoy.is/resize/188x288/42/bd/...   \n",
       "9           HD  https://img.moviesjoy.is/resize/188x288/2f/0c/...   \n",
       "\n",
       "                                           film-link  \\\n",
       "0                https://moviesjoy.is/tv/bluey-63355   \n",
       "1  https://moviesjoy.is/tv/hope-on-the-street-107554   \n",
       "2  https://moviesjoy.is/movie/jimmie-stevie-ray-v...   \n",
       "3     https://moviesjoy.is/tv/chasing-the-sun-111280   \n",
       "4  https://moviesjoy.is/tv/the-last-drive-in-with...   \n",
       "5      https://moviesjoy.is/tv/planet-earth-ii-38958   \n",
       "6  https://moviesjoy.is/tv/the-tragically-hip-no-...   \n",
       "7         https://moviesjoy.is/tv/breaking-bad-39506   \n",
       "8         https://moviesjoy.is/tv/planet-earth-38933   \n",
       "9  https://moviesjoy.is/tv/trading-up-with-mandy-...   \n",
       "\n",
       "                                        film-name film-type film-duration  \\\n",
       "0                                           Bluey        TV          None   \n",
       "1                              Hope on the Street        TV          None   \n",
       "2  Jimmie & Stevie Ray Vaughan: Brothers in Blues     Movie          107m   \n",
       "3                                 Chasing the Sun        TV          None   \n",
       "4           The Last Drive-in With Joe Bob Briggs        TV          None   \n",
       "5                                 Planet Earth II        TV          None   \n",
       "6          The Tragically Hip: No Dress Rehearsal        TV          None   \n",
       "7                                    Breaking Bad        TV          None   \n",
       "8                                    Planet Earth        TV          None   \n",
       "9                  Trading Up with Mandy Rennehan        TV          None   \n",
       "\n",
       "  publish-year  \n",
       "0         SS 3  \n",
       "1         SS 1  \n",
       "2         2023  \n",
       "3         SS 2  \n",
       "4         SS 3  \n",
       "5         SS 1  \n",
       "6         SS 1  \n",
       "7         SS 5  \n",
       "8         SS 1  \n",
       "9         SS 1  "
      ]
     },
     "execution_count": 4,
     "metadata": {},
     "output_type": "execute_result"
    }
   ],
   "source": [
    "data.head(10)"
   ]
  },
  {
   "cell_type": "code",
   "execution_count": 5,
   "id": "bce49eb2-ad28-4b07-8cd9-b493e490cdbe",
   "metadata": {
    "tags": []
   },
   "outputs": [
    {
     "name": "stdout",
     "output_type": "stream",
     "text": [
      "<class 'pandas.core.frame.DataFrame'>\n",
      "RangeIndex: 32 entries, 0 to 31\n",
      "Data columns (total 7 columns):\n",
      " #   Column         Non-Null Count  Dtype \n",
      "---  ------         --------------  ----- \n",
      " 0   film-quality   32 non-null     object\n",
      " 1   film-poster    32 non-null     object\n",
      " 2   film-link      32 non-null     object\n",
      " 3   film-name      32 non-null     object\n",
      " 4   film-type      32 non-null     object\n",
      " 5   film-duration  4 non-null      object\n",
      " 6   publish-year   32 non-null     object\n",
      "dtypes: object(7)\n",
      "memory usage: 1.9+ KB\n"
     ]
    }
   ],
   "source": [
    "data.info()"
   ]
  },
  {
   "cell_type": "code",
   "execution_count": 6,
   "id": "a408c345-3752-4320-827f-0a1aff01b5dd",
   "metadata": {
    "tags": []
   },
   "outputs": [
    {
     "data": {
      "text/plain": [
       "film-quality      1\n",
       "film-poster      32\n",
       "film-link        32\n",
       "film-name        32\n",
       "film-type         2\n",
       "film-duration     4\n",
       "publish-year      8\n",
       "dtype: int64"
      ]
     },
     "execution_count": 6,
     "metadata": {},
     "output_type": "execute_result"
    }
   ],
   "source": [
    "data.nunique()"
   ]
  },
  {
   "cell_type": "code",
   "execution_count": 7,
   "id": "f062209f-a7c0-48bd-a762-9a8fc1b76d08",
   "metadata": {
    "tags": []
   },
   "outputs": [
    {
     "data": {
      "text/plain": [
       "<Axes: >"
      ]
     },
     "execution_count": 7,
     "metadata": {},
     "output_type": "execute_result"
    },
    {
     "data": {
      "image/png": "[encoded data removed]",
      "text/plain": [
       "<Figure size 640x480 with 1 Axes>"
      ]
     },
     "metadata": {},
     "output_type": "display_data"
    }
   ],
   "source": [
    "data['film-type'].hist()"
   ]
  },
  {
   "cell_type": "code",
   "execution_count": 8,
   "id": "ad3c695f-6f57-428d-be20-769f584051f6",
   "metadata": {
    "tags": []
   },
   "outputs": [
    {
     "data": {
      "text/plain": [
       "film-quality      0\n",
       "film-poster       0\n",
       "film-link         0\n",
       "film-name         0\n",
       "film-type         0\n",
       "film-duration    28\n",
       "publish-year      0\n",
       "dtype: int64"
      ]
     },
     "execution_count": 8,
     "metadata": {},
     "output_type": "execute_result"
    }
   ],
   "source": [
    "data.isna().sum()"
   ]
  },
  {
   "cell_type": "code",
   "execution_count": 9,
   "id": "6251c57b-6bdc-4ec0-a813-616a146cdc46",
   "metadata": {
    "tags": []
   },
   "outputs": [
    {
     "data": {
      "text/plain": [
       "'https://img.moviesjoy.is/resize/188x288/c6/7d/c67d86ebbe68f9adbac3e564416f5e29/c67d86ebbe68f9adbac3e564416f5e29.jpg'"
      ]
     },
     "execution_count": 9,
     "metadata": {},
     "output_type": "execute_result"
    }
   ],
   "source": [
    "data['film-poster'][0]"
   ]
  },
  {
   "cell_type": "markdown",
   "id": "84e68910-cfdb-4930-985b-9aaf8b12119d",
   "metadata": {},
   "source": [
    "<img src='https://img.moviesjoy.is/resize/188x288/c6/7d/c67d86ebbe68f9adbac3e564416f5e29/c67d86ebbe68f9adbac3e564416f5e29.jpg'>"
   ]
  },
  {
   "cell_type": "code",
   "execution_count": 10,
   "id": "e1a28b17",
   "metadata": {},
   "outputs": [],
   "source": [
    "data.to_csv('moviesjoy_movies_data.csv')"
   ]
  }
 ],
 "metadata": {
  "kernelspec": {
   "display_name": "Python 3",
   "language": "python",
   "name": "python3"
  },
  "language_info": {
   "codemirror_mode": {
    "name": "ipython",
    "version": 3
   },
   "file_extension": ".py",
   "mimetype": "text/x-python",
   "name": "python",
   "nbconvert_exporter": "python",
   "pygments_lexer": "ipython3",
   "version": "3.12.4"
  }
 },
 "nbformat": 4,
 "nbformat_minor": 5
}
